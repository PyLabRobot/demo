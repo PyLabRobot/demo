{
 "cells": [
  {
   "cell_type": "code",
   "execution_count": null,
   "id": "63274771",
   "metadata": {},
   "outputs": [],
   "source": [
    "import pyhamilton"
   ]
  },
  {
   "cell_type": "code",
   "execution_count": null,
   "id": "43876932",
   "metadata": {},
   "outputs": [],
   "source": [
    "import logging\n",
    "logging.basicConfig(level=logging.INFO)"
   ]
  },
  {
   "cell_type": "code",
   "execution_count": null,
   "id": "efcd551e",
   "metadata": {
    "scrolled": true
   },
   "outputs": [],
   "source": [
    "from pyhamilton.liquid_handling import LiquidHandler\n",
    "from pyhamilton.liquid_handling.backends.simulation.simulation import SimulationBackend"
   ]
  },
  {
   "cell_type": "code",
   "execution_count": null,
   "id": "c8fbee91",
   "metadata": {},
   "outputs": [],
   "source": [
    "sb = SimulationBackend(open_browser=False)\n",
    "lh = LiquidHandler(backend=sb)"
   ]
  },
  {
   "cell_type": "code",
   "execution_count": null,
   "id": "d2456b07",
   "metadata": {
    "scrolled": false
   },
   "outputs": [],
   "source": [
    "lh.setup()"
   ]
  },
  {
   "cell_type": "code",
   "execution_count": null,
   "id": "75c4d1c7",
   "metadata": {},
   "outputs": [],
   "source": [
    "from pyhamilton.liquid_handling.resources import (\n",
    "    TIP_CAR_480_A00,\n",
    "    PLT_CAR_L5AC_A00,\n",
    "    Cos_96_DW_1mL,\n",
    "    STF_L\n",
    ")"
   ]
  },
  {
   "cell_type": "code",
   "execution_count": null,
   "id": "58c86159",
   "metadata": {},
   "outputs": [],
   "source": [
    "tip_car = TIP_CAR_480_A00(name='tip carrier')\n",
    "for i in range(2):\n",
    "    tip_car[i] = STF_L(name=f'tip_{i}')"
   ]
  },
  {
   "cell_type": "code",
   "execution_count": null,
   "id": "e74ba189",
   "metadata": {},
   "outputs": [],
   "source": [
    "lh.assign_resource(tip_car, rails=1, replace=True)"
   ]
  },
  {
   "cell_type": "code",
   "execution_count": null,
   "id": "a783b8fa",
   "metadata": {},
   "outputs": [],
   "source": [
    "xtip_car = TIP_CAR_480_A00(name='xtip carrier')\n",
    "for i in range(2):\n",
    "    xtip_car[i] = STF_L(name=f'xtip_{i}')"
   ]
  },
  {
   "cell_type": "code",
   "execution_count": null,
   "id": "caf3ebdc",
   "metadata": {},
   "outputs": [],
   "source": [
    "lh.assign_resource(xtip_car, rails=10, replace=True)"
   ]
  },
  {
   "cell_type": "code",
   "execution_count": null,
   "id": "911bdeaf",
   "metadata": {},
   "outputs": [],
   "source": [
    "xtip_car[2] = STF_L(name=f'xtip_{2}')"
   ]
  },
  {
   "cell_type": "code",
   "execution_count": null,
   "id": "223bf696",
   "metadata": {},
   "outputs": [],
   "source": [
    "xtip_car[3] = STF_L(name=f'xtip_{3}')"
   ]
  },
  {
   "cell_type": "code",
   "execution_count": null,
   "id": "a7a58c5e",
   "metadata": {},
   "outputs": [],
   "source": [
    "xtip_car[3] = None"
   ]
  },
  {
   "cell_type": "code",
   "execution_count": null,
   "id": "7e99ee92",
   "metadata": {},
   "outputs": [],
   "source": [
    "sb.place_tips(xtip_car[0], [[True]*12 for i in range(8)])"
   ]
  },
  {
   "cell_type": "code",
   "execution_count": null,
   "id": "010d6aba",
   "metadata": {},
   "outputs": [],
   "source": [
    "sb.remove_tips(xtip_car[0], [[True]*6 for i in range(8)])"
   ]
  },
  {
   "cell_type": "code",
   "execution_count": null,
   "id": "1783fd5f",
   "metadata": {},
   "outputs": [],
   "source": []
  }
 ],
 "metadata": {
  "kernelspec": {
   "display_name": "Python 3 (ipykernel)",
   "language": "python",
   "name": "python3"
  },
  "language_info": {
   "codemirror_mode": {
    "name": "ipython",
    "version": 3
   },
   "file_extension": ".py",
   "mimetype": "text/x-python",
   "name": "python",
   "nbconvert_exporter": "python",
   "pygments_lexer": "ipython3",
   "version": "3.9.13"
  },
  "vscode": {
   "interpreter": {
    "hash": "144ec50570006c78c95fcbf03daf60eaeab01aab98729d454cf125bd413b5e53"
   }
  }
 },
 "nbformat": 4,
 "nbformat_minor": 5
}
