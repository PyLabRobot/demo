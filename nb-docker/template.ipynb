{
 "cells": [
  {
   "cell_type": "markdown",
   "metadata": {},
   "source": [
    "# Using the PyLabRobot Simulator\n",
    "\n",
    "This notebook servers as an introduction to the PyLabRobot simulator. It provides a very quick overview of the simulator and PLR in general. More documentation is available [on the docs website](https://docs.pylabrobot.org)."
   ]
  },
  {
   "cell_type": "markdown",
   "metadata": {},
   "source": [
    "To  get started, import LiquidHandler and SimulatorBackend. The LiquidHandler (or lh for short), will be our interface to all liquid handling functionality in PLR. The SimulatorBackend is one of many available _backends_, classes that handle communication, but a very special one."
   ]
  },
  {
   "cell_type": "code",
   "execution_count": null,
   "metadata": {},
   "outputs": [],
   "source": [
    "from pylabrobot.liquid_handling import LiquidHandler\n",
    "from pylabrobot.liquid_handling.backends.simulation.simulator_backend import SimulatorBackend"
   ]
  },
  {
   "cell_type": "markdown",
   "metadata": {},
   "source": [
    "Next, import a few of the VENUS resources, which we'll use to create a deck."
   ]
  },
  {
   "cell_type": "code",
   "execution_count": null,
   "metadata": {},
   "outputs": [],
   "source": [
    "from pylabrobot.liquid_handling.resources import (\n",
    "    TIP_CAR_480_A00,\n",
    "    PLT_CAR_L5AC_A00,\n",
    "    Cos_96_DW_1mL,\n",
    "    STF_L\n",
    ")"
   ]
  },
  {
   "cell_type": "markdown",
   "metadata": {},
   "source": [
    "Then instantiate our classes, passing the backend as an argument to LH.\n",
    "\n",
    "**note: it is very important that you keep the hosts in the simulator backend while using simulator.pylaborobot.org**"
   ]
  },
  {
   "cell_type": "code",
   "execution_count": null,
   "metadata": {},
   "outputs": [],
   "source": [
    "sb = SimulatorBackend(ws_host=\"0.0.0.0\", fs_host=\"0.0.0.0\")\n",
    "lh = LiquidHandler(backend=sb)"
   ]
  },
  {
   "cell_type": "markdown",
   "metadata": {},
   "source": [
    "When you're ready to start using LH, call `.setup()`."
   ]
  },
  {
   "cell_type": "code",
   "execution_count": null,
   "metadata": {},
   "outputs": [],
   "source": [
    "lh.setup()"
   ]
  },
  {
   "cell_type": "markdown",
   "metadata": {},
   "source": [
    "This convenience method waits until a connection with the simulator is established."
   ]
  },
  {
   "cell_type": "code",
   "execution_count": null,
   "metadata": {},
   "outputs": [],
   "source": [
    "sb.wait_for_connection()"
   ]
  },
  {
   "cell_type": "markdown",
   "metadata": {},
   "source": [
    "You should now see the simulator on the right hand side of your screen."
   ]
  },
  {
   "cell_type": "markdown",
   "metadata": {},
   "source": [
    "## Defining a deck layout\n",
    "\n",
    "With a physical deck, you'd set up your resources before telling PLR where they are. With the simulator however, just the second step is required. The simulator will automatically display them."
   ]
  },
  {
   "cell_type": "code",
   "execution_count": null,
   "metadata": {},
   "outputs": [],
   "source": [
    "tip_car = TIP_CAR_480_A00(name='tip carrier')\n",
    "for i in range(2):\n",
    "    tip_car[i] = STF_L(name=f'tip_{i}')"
   ]
  },
  {
   "cell_type": "code",
   "execution_count": null,
   "metadata": {},
   "outputs": [],
   "source": [
    "tip_car[3] = STF_L(name=f'tip_{3}')"
   ]
  },
  {
   "cell_type": "code",
   "execution_count": null,
   "metadata": {},
   "outputs": [],
   "source": [
    "lh.assign_resource(tip_car, rails=1, replace=True)"
   ]
  },
  {
   "cell_type": "markdown",
   "metadata": {},
   "source": [
    "You should now see a tip carrier appear in the simulator window.\n",
    "\n",
    "Next, let's create a plate carrier."
   ]
  },
  {
   "cell_type": "code",
   "execution_count": null,
   "metadata": {},
   "outputs": [],
   "source": [
    "plt_car = PLT_CAR_L5AC_A00(name='pre')\n",
    "for i in range(5):\n",
    "    plt_car[i] = Cos_96_DW_1mL(name=f'plate_{i}')"
   ]
  },
  {
   "cell_type": "code",
   "execution_count": null,
   "metadata": {},
   "outputs": [],
   "source": [
    "lh.assign_resource(plt_car, rails=9, replace=True)"
   ]
  },
  {
   "cell_type": "markdown",
   "metadata": {},
   "source": [
    "### Further configuring the deck"
   ]
  },
  {
   "cell_type": "markdown",
   "metadata": {},
   "source": [
    "Just like in reality, only assigning where your resources are is not enough to start liquid handling. You also need supplies like tips and liquid. The simulator provides methods to create these virtually. This allows it to perform \"reality checks\", and raise errors, if some part of the liquid handling would not be physically possible. Since this simulator specific functionality, the methods are part of `sb` (the simulator backend variable)."
   ]
  },
  {
   "cell_type": "markdown",
   "metadata": {},
   "source": [
    "To start, let's fill the first tip resource with tips."
   ]
  },
  {
   "cell_type": "code",
   "execution_count": null,
   "metadata": {},
   "outputs": [],
   "source": [
    "tips = lh.get_resource('tip_0') # use the name of the resource we just defined\n",
    "sb.fill_tips(tips)"
   ]
  },
  {
   "cell_type": "markdown",
   "metadata": {},
   "source": [
    "As you can see, the circles in the simulator are now filled to indicate tips are present."
   ]
  },
  {
   "cell_type": "markdown",
   "metadata": {},
   "source": [
    "Adding liquid to wells is done in a similar way. Below we alternate the volume in the wells in the columns with 100 and 800 microliters."
   ]
  },
  {
   "cell_type": "code",
   "execution_count": null,
   "metadata": {},
   "outputs": [],
   "source": [
    "plate = lh.get_resource('plate_0')\n",
    "sb.adjust_well_volume(plate, pattern=[[100, 800]*6]*8)"
   ]
  },
  {
   "cell_type": "markdown",
   "metadata": {},
   "source": [
    "## Liquid handling"
   ]
  },
  {
   "cell_type": "markdown",
   "metadata": {},
   "source": [
    "Now that we have tips and liquid set up, we are ready to do some virtual liquid handling. This is done through `lh`, the generic liquid handler front end. This allows us to easily reuse our liquid handling code with physical liquid handlers in the future.\n",
    "\n",
    "Start by picking up a few tips. We can use (transposed) MS Excel type notation to easily select entire columns. Just like with a robot, this operation takes a while (2 seconds). However, unlike physical reality, you can use the settings button on to edit these durations."
   ]
  },
  {
   "cell_type": "code",
   "execution_count": null,
   "metadata": {},
   "outputs": [],
   "source": [
    "lh.pickup_tips(tips[\"A1:H1\"])"
   ]
  },
  {
   "cell_type": "markdown",
   "metadata": {},
   "source": [
    "Next, let's aspirate some liquid from the plate and move it to have an equal volume of liquid in the first two columns. Notice how the color of the wells reflects the amount of liquid in that well."
   ]
  },
  {
   "cell_type": "code",
   "execution_count": null,
   "metadata": {},
   "outputs": [],
   "source": [
    "vols = [350]*8\n",
    "lh.aspirate(plate[\"A2:H2\"], vols=vols)"
   ]
  },
  {
   "cell_type": "code",
   "execution_count": null,
   "metadata": {},
   "outputs": [],
   "source": [
    "lh.dispense(plate[\"A1:H1\"], vols=vols)"
   ]
  },
  {
   "cell_type": "markdown",
   "metadata": {},
   "source": [
    "Lastly, put the tips back in another tip resource."
   ]
  },
  {
   "cell_type": "code",
   "execution_count": null,
   "metadata": {},
   "outputs": [],
   "source": [
    "other_tips = lh.get_resource(\"tip_1\")\n",
    "lh.discard_tips(other_tips[\"A1:H1\"])"
   ]
  },
  {
   "cell_type": "code",
   "execution_count": null,
   "metadata": {},
   "outputs": [],
   "source": []
  }
 ],
 "metadata": {
  "kernelspec": {
   "display_name": "Python 3 (ipykernel)",
   "language": "python",
   "name": "python3"
  },
  "language_info": {
   "codemirror_mode": {
    "name": "ipython",
    "version": 3
   },
   "file_extension": ".py",
   "mimetype": "text/x-python",
   "name": "python",
   "nbconvert_exporter": "python",
   "pygments_lexer": "ipython3",
   "version": "3.9.13"
  },
  "toc": {
   "base_numbering": 1,
   "nav_menu": {},
   "number_sections": true,
   "sideBar": true,
   "skip_h1_title": false,
   "title_cell": "Table of Contents",
   "title_sidebar": "Contents",
   "toc_cell": false,
   "toc_position": {},
   "toc_section_display": true,
   "toc_window_display": false
  },
  "varInspector": {
   "cols": {
    "lenName": 16,
    "lenType": 16,
    "lenVar": 40
   },
   "kernels_config": {
    "python": {
     "delete_cmd_postfix": "",
     "delete_cmd_prefix": "del ",
     "library": "var_list.py",
     "varRefreshCmd": "print(var_dic_list())"
    },
    "r": {
     "delete_cmd_postfix": ") ",
     "delete_cmd_prefix": "rm(",
     "library": "var_list.r",
     "varRefreshCmd": "cat(var_dic_list()) "
    }
   },
   "types_to_exclude": [
    "module",
    "function",
    "builtin_function_or_method",
    "instance",
    "_Feature"
   ],
   "window_display": false
  },
  "vscode": {
   "interpreter": {
    "hash": "fd9c9ef2a99251700b1f288bce2941cc6848e759b3d565a7b56e867abc396ca4"
   }
  }
 },
 "nbformat": 4,
 "nbformat_minor": 2
}
